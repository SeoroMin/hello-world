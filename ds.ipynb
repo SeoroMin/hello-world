{
 "cells": [
  {
   "cell_type": "code",
   "execution_count": 1,
   "metadata": {},
   "outputs": [],
   "source": [
    "\n",
    "import pandas as pd\n",
    "import numpy as np\n",
    "import matplotlib.pyplot as plt\n",
    "import seaborn as sns"
   ]
  },
  {
   "cell_type": "code",
   "execution_count": 2,
   "metadata": {},
   "outputs": [],
   "source": [
    "# 그래프 작성 라이브러리 및 한글 폰트 지정을 위한 코드를 실행합니다. \n",
    "import matplotlib\n",
    "from matplotlib import font_manager, rc\n",
    "import platform\n",
    "\n",
    "\n",
    "%matplotlib inline\n",
    "\n",
    "# 이미지 한글 표시 설정\n",
    "if platform.system() == 'Windows':  # 윈도우인 경우 맑은고딕\n",
    "    font_name = font_manager.FontProperties(fname=\"c:/Windows/Fonts/malgun.ttf\").get_name()\n",
    "    rc('font', family=font_name)\n",
    "else:    # Mac 인 경우 애플고딕\n",
    "    rc('font', family='AppleGothic')\n",
    "\n",
    "# 위에 안 될 시 아래 코드로 실행해주세요    \n",
    "# matplotlib.rcParams['font.family'].insert(0, 'Malgun Gothic')\n",
    "\n",
    "#그래프에서 마이너스 기호가 표시되도록 하는 설정입니다.\n",
    "matplotlib.rcParams['axes.unicode_minus'] = False"
   ]
  },
  {
   "cell_type": "code",
   "execution_count": 4,
   "metadata": {},
   "outputs": [],
   "source": [
    "# pd.read_csv(\"경로/파일이름.확장자\")\n",
    "data = pd.read_csv(\"dataset2.csv\")"
   ]
  },
  {
   "cell_type": "code",
   "execution_count": 5,
   "metadata": {},
   "outputs": [
    {
     "data": {
      "text/html": [
       "<div>\n",
       "<style scoped>\n",
       "    .dataframe tbody tr th:only-of-type {\n",
       "        vertical-align: middle;\n",
       "    }\n",
       "\n",
       "    .dataframe tbody tr th {\n",
       "        vertical-align: top;\n",
       "    }\n",
       "\n",
       "    .dataframe thead th {\n",
       "        text-align: right;\n",
       "    }\n",
       "</style>\n",
       "<table border=\"1\" class=\"dataframe\">\n",
       "  <thead>\n",
       "    <tr style=\"text-align: right;\">\n",
       "      <th></th>\n",
       "      <th>고객코드</th>\n",
       "      <th>질병</th>\n",
       "      <th>질병 수</th>\n",
       "      <th>나이</th>\n",
       "      <th>성별</th>\n",
       "      <th>가입일</th>\n",
       "      <th>마지막활동일</th>\n",
       "      <th>활동기간</th>\n",
       "      <th>활동주기</th>\n",
       "      <th>활동지수</th>\n",
       "    </tr>\n",
       "  </thead>\n",
       "  <tbody>\n",
       "    <tr>\n",
       "      <td>0</td>\n",
       "      <td>1</td>\n",
       "      <td>ALS</td>\n",
       "      <td>2</td>\n",
       "      <td>20</td>\n",
       "      <td>1</td>\n",
       "      <td>2019-05-02</td>\n",
       "      <td>2020-02-07</td>\n",
       "      <td>281</td>\n",
       "      <td>2</td>\n",
       "      <td>0.000</td>\n",
       "    </tr>\n",
       "    <tr>\n",
       "      <td>1</td>\n",
       "      <td>2</td>\n",
       "      <td>ALS</td>\n",
       "      <td>2</td>\n",
       "      <td>30</td>\n",
       "      <td>1</td>\n",
       "      <td>2019-12-30</td>\n",
       "      <td>2020-03-08</td>\n",
       "      <td>69</td>\n",
       "      <td>3</td>\n",
       "      <td>0.003</td>\n",
       "    </tr>\n",
       "    <tr>\n",
       "      <td>2</td>\n",
       "      <td>3</td>\n",
       "      <td>ALS</td>\n",
       "      <td>5</td>\n",
       "      <td>30</td>\n",
       "      <td>0</td>\n",
       "      <td>2019-01-25</td>\n",
       "      <td>2020-10-29</td>\n",
       "      <td>643</td>\n",
       "      <td>1</td>\n",
       "      <td>0.097</td>\n",
       "    </tr>\n",
       "    <tr>\n",
       "      <td>3</td>\n",
       "      <td>4</td>\n",
       "      <td>ALS</td>\n",
       "      <td>4</td>\n",
       "      <td>30</td>\n",
       "      <td>0</td>\n",
       "      <td>2018-03-28</td>\n",
       "      <td>2019-12-13</td>\n",
       "      <td>625</td>\n",
       "      <td>1</td>\n",
       "      <td>0.186</td>\n",
       "    </tr>\n",
       "    <tr>\n",
       "      <td>4</td>\n",
       "      <td>5</td>\n",
       "      <td>ALS</td>\n",
       "      <td>5</td>\n",
       "      <td>40</td>\n",
       "      <td>1</td>\n",
       "      <td>2018-10-20</td>\n",
       "      <td>2019-11-30</td>\n",
       "      <td>406</td>\n",
       "      <td>2</td>\n",
       "      <td>0.010</td>\n",
       "    </tr>\n",
       "  </tbody>\n",
       "</table>\n",
       "</div>"
      ],
      "text/plain": [
       "   고객코드   질병  질병 수  나이  성별         가입일      마지막활동일  활동기간  활동주기   활동지수\n",
       "0     1  ALS     2  20   1  2019-05-02  2020-02-07   281     2  0.000\n",
       "1     2  ALS     2  30   1  2019-12-30  2020-03-08    69     3  0.003\n",
       "2     3  ALS     5  30   0  2019-01-25  2020-10-29   643     1  0.097\n",
       "3     4  ALS     4  30   0  2018-03-28  2019-12-13   625     1  0.186\n",
       "4     5  ALS     5  40   1  2018-10-20  2019-11-30   406     2  0.010"
      ]
     },
     "execution_count": 5,
     "metadata": {},
     "output_type": "execute_result"
    }
   ],
   "source": [
    "data.head()"
   ]
  },
  {
   "cell_type": "code",
   "execution_count": 6,
   "metadata": {},
   "outputs": [
    {
     "data": {
      "text/plain": [
       "(300, 10)"
      ]
     },
     "execution_count": 6,
     "metadata": {},
     "output_type": "execute_result"
    }
   ],
   "source": [
    "data.shape"
   ]
  },
  {
   "cell_type": "code",
   "execution_count": 18,
   "metadata": {},
   "outputs": [],
   "source": [
    "def get_grade(data):\n",
    "    if (data >= 120):\n",
    "        return '1'\n",
    "    else:\n",
    "        return '0'"
   ]
  },
  {
   "cell_type": "code",
   "execution_count": 20,
   "metadata": {},
   "outputs": [],
   "source": [
    "data['이탈여부'] = data['활동기간'].apply(get_grade)"
   ]
  },
  {
   "cell_type": "code",
   "execution_count": 21,
   "metadata": {},
   "outputs": [],
   "source": [
    "x_features = data[ ['질병 수','활동주기','활동지수'] ]\n",
    "y_label = data['이탈여부']"
   ]
  },
  {
   "cell_type": "code",
   "execution_count": 22,
   "metadata": {},
   "outputs": [],
   "source": [
    "import random\n",
    "from sklearn.model_selection import train_test_split\n",
    "from sklearn.tree import DecisionTreeClassifier\n",
    "from sklearn.metrics import confusion_matrix, accuracy_score"
   ]
  },
  {
   "cell_type": "code",
   "execution_count": 23,
   "metadata": {},
   "outputs": [],
   "source": [
    "x_train, x_test, y_train, y_test = train_test_split(x_features, y_label, test_size=0.3, random_state=22)"
   ]
  },
  {
   "cell_type": "code",
   "execution_count": 24,
   "metadata": {},
   "outputs": [],
   "source": [
    "dt = DecisionTreeClassifier(random_state = 22)"
   ]
  },
  {
   "cell_type": "code",
   "execution_count": 25,
   "metadata": {},
   "outputs": [
    {
     "data": {
      "text/plain": [
       "DecisionTreeClassifier(random_state=22)"
      ]
     },
     "execution_count": 25,
     "metadata": {},
     "output_type": "execute_result"
    }
   ],
   "source": [
    "dt.fit(x_train, y_train)"
   ]
  },
  {
   "cell_type": "code",
   "execution_count": 26,
   "metadata": {},
   "outputs": [
    {
     "data": {
      "text/plain": [
       "array(['1', '0', '1', '1', '1', '1', '1', '1', '1', '1', '1', '1', '1',\n",
       "       '1', '0', '1', '1', '0', '1', '1', '1', '1', '1', '0', '0', '0',\n",
       "       '0', '0', '1', '1', '0', '0', '1', '0', '1', '1', '1', '0', '0',\n",
       "       '1', '1', '1', '1', '1', '0', '0', '1', '1', '1', '1', '1', '0',\n",
       "       '1', '1', '1', '1', '1', '1', '1', '1', '0', '1', '1', '0', '1',\n",
       "       '1', '1', '1', '1', '1', '1', '0', '0', '1', '1', '1', '1', '1',\n",
       "       '1', '0', '1', '1', '1', '0', '1', '1', '1', '1', '0', '1'],\n",
       "      dtype=object)"
      ]
     },
     "execution_count": 26,
     "metadata": {},
     "output_type": "execute_result"
    }
   ],
   "source": [
    "dt.predict(x_test)"
   ]
  },
  {
   "cell_type": "code",
   "execution_count": 27,
   "metadata": {},
   "outputs": [],
   "source": [
    "y_pred = dt.predict(x_test)"
   ]
  },
  {
   "cell_type": "code",
   "execution_count": 28,
   "metadata": {},
   "outputs": [
    {
     "data": {
      "text/plain": [
       "array([[ 3, 19],\n",
       "       [20, 48]], dtype=int64)"
      ]
     },
     "execution_count": 28,
     "metadata": {},
     "output_type": "execute_result"
    }
   ],
   "source": [
    "confusion_matrix(y_test, y_pred)"
   ]
  },
  {
   "cell_type": "code",
   "execution_count": 29,
   "metadata": {},
   "outputs": [
    {
     "data": {
      "text/plain": [
       "0.5666666666666667"
      ]
     },
     "execution_count": 29,
     "metadata": {},
     "output_type": "execute_result"
    }
   ],
   "source": [
    "accuracy_score(y_test, y_pred)"
   ]
  },
  {
   "cell_type": "code",
   "execution_count": 30,
   "metadata": {},
   "outputs": [
    {
     "data": {
      "text/plain": [
       "array([0.36920888, 0.12407507, 0.50671605])"
      ]
     },
     "execution_count": 30,
     "metadata": {},
     "output_type": "execute_result"
    }
   ],
   "source": [
    "dt.feature_importances_"
   ]
  },
  {
   "cell_type": "code",
   "execution_count": 31,
   "metadata": {},
   "outputs": [
    {
     "name": "stdout",
     "output_type": "stream",
     "text": [
      "질병 수 : 0.369\n",
      "활동주기 : 0.124\n",
      "활동지수 : 0.507\n"
     ]
    },
    {
     "data": {
      "text/plain": [
       "<matplotlib.axes._subplots.AxesSubplot at 0x26aa1d5fba8>"
      ]
     },
     "execution_count": 31,
     "metadata": {},
     "output_type": "execute_result"
    },
    {
     "data": {
      "image/png": "[encoded data removed]",
      "text/plain": [
       "<Figure size 432x288 with 1 Axes>"
      ]
     },
     "metadata": {
      "needs_background": "light"
     },
     "output_type": "display_data"
    }
   ],
   "source": [
    "for name, value in zip(x_features.columns, dt.feature_importances_):\n",
    "    print(\"{0} : {1:.3f}\".format(name, value))\n",
    "sns.barplot(x=dt.feature_importances_, y = x_features.columns)"
   ]
  },
  {
   "cell_type": "code",
   "execution_count": 32,
   "metadata": {},
   "outputs": [
    {
     "name": "stdout",
     "output_type": "stream",
     "text": [
      "Collecting pydotplus\n",
      "  Downloading https://files.pythonhosted.org/packages/60/bf/62567830b700d9f6930e9ab6831d6ba256f7b0b730acb37278b0ccdffacf/pydotplus-2.0.2.tar.gz (278kB)\n",
      "Requirement already satisfied: pyparsing>=2.0.1 in c:\\users\\tkdal\\anaconda3\\lib\\site-packages (from pydotplus) (2.4.2)\n",
      "Building wheels for collected packages: pydotplus\n",
      "  Building wheel for pydotplus (setup.py): started\n",
      "  Building wheel for pydotplus (setup.py): finished with status 'done'\n",
      "  Created wheel for pydotplus: filename=pydotplus-2.0.2-cp36-none-any.whl size=24572 sha256=5952d0fd8d55637b56002bf183bad9770e580b2c8a20223a719887efbcb30b77\n",
      "  Stored in directory: C:\\Users\\tkdal\\AppData\\Local\\pip\\Cache\\wheels\\35\\7b\\ab\\66fb7b2ac1f6df87475b09dc48e707b6e0de80a6d8444e3628\n",
      "Successfully built pydotplus\n",
      "Installing collected packages: pydotplus\n",
      "Successfully installed pydotplus-2.0.2\n",
      "Requirement already satisfied: graphviz in c:\\users\\tkdal\\anaconda3\\lib\\site-packages (0.14.1)\n"
     ]
    }
   ],
   "source": [
    "!pip install pydotplus\n",
    "!pip install graphviz"
   ]
  },
  {
   "cell_type": "code",
   "execution_count": 33,
   "metadata": {},
   "outputs": [],
   "source": [
    "import pydotplus\n",
    "\n",
    "from sklearn.tree import export_graphviz\n",
    "\n",
    "from IPython.core.display import Image"
   ]
  },
  {
   "cell_type": "code",
   "execution_count": 36,
   "metadata": {},
   "outputs": [],
   "source": [
    "dot_data = export_graphviz(dt, out_file=None,\n",
    "\n",
    "                           feature_names=x_train.columns,\n",
    "\n",
    "                           class_names=dt.classes_,\n",
    "\n",
    "                           filled=True, rounded=True,\n",
    "\n",
    "                           special_characters=True)"
   ]
  },
  {
   "cell_type": "code",
   "execution_count": 40,
   "metadata": {},
   "outputs": [
    {
     "data": {
      "text/plain": [
       "'digraph Tree {\\nnode [shape=box, style=\"filled, rounded\", color=\"black\", fontname=helvetica] ;\\nedge [fontname=helvetica] ;\\n0 [label=<활동지수 &le; 0.082<br/>gini = 0.363<br/>samples = 210<br/>value = [50, 160]<br/>class = 1>, fillcolor=\"#77bced\"] ;\\n1 [label=<활동지수 &le; 0.073<br/>gini = 0.4<br/>samples = 141<br/>value = [39, 102]<br/>class = 1>, fillcolor=\"#85c2ef\"] ;\\n0 -> 1 [labeldistance=2.5, labelangle=45, headlabel=\"True\"] ;\\n2 [label=<질병 수 &le; 12.5<br/>gini = 0.382<br/>samples = 136<br/>value = [35, 101]<br/>class = 1>, fillcolor=\"#7ebfee\"] ;\\n1 -> 2 ;\\n3 [label=<활동지수 &le; 0.066<br/>gini = 0.371<br/>samples = 134<br/>value = [33, 101]<br/>class = 1>, fillcolor=\"#7abded\"] ;\\n2 -> 3 ;\\n4 [label=<질병 수 &le; 1.5<br/>gini = 0.387<br/>samples = 126<br/>value = [33, 93]<br/>class = 1>, fillcolor=\"#7fc0ee\"] ;\\n3 -> 4 ;\\n5 [label=<활동지수 &le; 0.021<br/>gini = 0.444<br/>samples = 3<br/>value = [2, 1]<br/>class = 0>, fillcolor=\"#f2c09c\"] ;\\n4 -> 5 ;\\n6 [label=<gini = 0.0<br/>samples = 1<br/>value = [0, 1]<br/>class = 1>, fillcolor=\"#399de5\"] ;\\n5 -> 6 ;\\n7 [label=<gini = 0.0<br/>samples = 2<br/>value = [2, 0]<br/>class = 0>, fillcolor=\"#e58139\"] ;\\n5 -> 7 ;\\n8 [label=<활동지수 &le; 0.005<br/>gini = 0.377<br/>samples = 123<br/>value = [31, 92]<br/>class = 1>, fillcolor=\"#7cbeee\"] ;\\n4 -> 8 ;\\n9 [label=<활동지수 &le; 0.002<br/>gini = 0.461<br/>samples = 25<br/>value = [9, 16]<br/>class = 1>, fillcolor=\"#a8d4f4\"] ;\\n8 -> 9 ;\\n10 [label=<질병 수 &le; 7.5<br/>gini = 0.18<br/>samples = 10<br/>value = [1, 9]<br/>class = 1>, fillcolor=\"#4fa8e8\"] ;\\n9 -> 10 ;\\n11 [label=<gini = 0.0<br/>samples = 7<br/>value = [0, 7]<br/>class = 1>, fillcolor=\"#399de5\"] ;\\n10 -> 11 ;\\n12 [label=<질병 수 &le; 8.5<br/>gini = 0.444<br/>samples = 3<br/>value = [1, 2]<br/>class = 1>, fillcolor=\"#9ccef2\"] ;\\n10 -> 12 ;\\n13 [label=<gini = 0.0<br/>samples = 1<br/>value = [1, 0]<br/>class = 0>, fillcolor=\"#e58139\"] ;\\n12 -> 13 ;\\n14 [label=<gini = 0.0<br/>samples = 2<br/>value = [0, 2]<br/>class = 1>, fillcolor=\"#399de5\"] ;\\n12 -> 14 ;\\n15 [label=<활동주기 &le; 2.5<br/>gini = 0.498<br/>samples = 15<br/>value = [8, 7]<br/>class = 0>, fillcolor=\"#fcefe6\"] ;\\n9 -> 15 ;\\n16 [label=<질병 수 &le; 3.0<br/>gini = 0.375<br/>samples = 4<br/>value = [1, 3]<br/>class = 1>, fillcolor=\"#7bbeee\"] ;\\n15 -> 16 ;\\n17 [label=<gini = 0.0<br/>samples = 1<br/>value = [0, 1]<br/>class = 1>, fillcolor=\"#399de5\"] ;\\n16 -> 17 ;\\n18 [label=<질병 수 &le; 5.5<br/>gini = 0.444<br/>samples = 3<br/>value = [1, 2]<br/>class = 1>, fillcolor=\"#9ccef2\"] ;\\n16 -> 18 ;\\n19 [label=<gini = 0.5<br/>samples = 2<br/>value = [1, 1]<br/>class = 0>, fillcolor=\"#ffffff\"] ;\\n18 -> 19 ;\\n20 [label=<gini = 0.0<br/>samples = 1<br/>value = [0, 1]<br/>class = 1>, fillcolor=\"#399de5\"] ;\\n18 -> 20 ;\\n21 [label=<질병 수 &le; 10.5<br/>gini = 0.463<br/>samples = 11<br/>value = [7, 4]<br/>class = 0>, fillcolor=\"#f4c9aa\"] ;\\n15 -> 21 ;\\n22 [label=<질병 수 &le; 6.5<br/>gini = 0.42<br/>samples = 10<br/>value = [7, 3]<br/>class = 0>, fillcolor=\"#f0b78e\"] ;\\n21 -> 22 ;\\n23 [label=<질병 수 &le; 5.5<br/>gini = 0.49<br/>samples = 7<br/>value = [4, 3]<br/>class = 0>, fillcolor=\"#f8e0ce\"] ;\\n22 -> 23 ;\\n24 [label=<질병 수 &le; 4.5<br/>gini = 0.444<br/>samples = 6<br/>value = [4, 2]<br/>class = 0>, fillcolor=\"#f2c09c\"] ;\\n23 -> 24 ;\\n25 [label=<질병 수 &le; 2.5<br/>gini = 0.5<br/>samples = 4<br/>value = [2, 2]<br/>class = 0>, fillcolor=\"#ffffff\"] ;\\n24 -> 25 ;\\n26 [label=<gini = 0.0<br/>samples = 1<br/>value = [1, 0]<br/>class = 0>, fillcolor=\"#e58139\"] ;\\n25 -> 26 ;\\n27 [label=<활동주기 &le; 4.0<br/>gini = 0.444<br/>samples = 3<br/>value = [1, 2]<br/>class = 1>, fillcolor=\"#9ccef2\"] ;\\n25 -> 27 ;\\n28 [label=<gini = 0.0<br/>samples = 1<br/>value = [0, 1]<br/>class = 1>, fillcolor=\"#399de5\"] ;\\n27 -> 28 ;\\n29 [label=<질병 수 &le; 3.5<br/>gini = 0.5<br/>samples = 2<br/>value = [1, 1]<br/>class = 0>, fillcolor=\"#ffffff\"] ;\\n27 -> 29 ;\\n30 [label=<gini = 0.0<br/>samples = 1<br/>value = [1, 0]<br/>class = 0>, fillcolor=\"#e58139\"] ;\\n29 -> 30 ;\\n31 [label=<gini = 0.0<br/>samples = 1<br/>value = [0, 1]<br/>class = 1>, fillcolor=\"#399de5\"] ;\\n29 -> 31 ;\\n32 [label=<gini = 0.0<br/>samples = 2<br/>value = [2, 0]<br/>class = 0>, fillcolor=\"#e58139\"] ;\\n24 -> 32 ;\\n33 [label=<gini = 0.0<br/>samples = 1<br/>value = [0, 1]<br/>class = 1>, fillcolor=\"#399de5\"] ;\\n23 -> 33 ;\\n34 [label=<gini = 0.0<br/>samples = 3<br/>value = [3, 0]<br/>class = 0>, fillcolor=\"#e58139\"] ;\\n22 -> 34 ;\\n35 [label=<gini = 0.0<br/>samples = 1<br/>value = [0, 1]<br/>class = 1>, fillcolor=\"#399de5\"] ;\\n21 -> 35 ;\\n36 [label=<활동주기 &le; 2.5<br/>gini = 0.348<br/>samples = 98<br/>value = [22, 76]<br/>class = 1>, fillcolor=\"#72b9ed\"] ;\\n8 -> 36 ;\\n37 [label=<활동지수 &le; 0.017<br/>gini = 0.438<br/>samples = 37<br/>value = [12, 25]<br/>class = 1>, fillcolor=\"#98ccf1\"] ;\\n36 -> 37 ;\\n38 [label=<활동지수 &le; 0.007<br/>gini = 0.26<br/>samples = 13<br/>value = [2, 11]<br/>class = 1>, fillcolor=\"#5dafea\"] ;\\n37 -> 38 ;\\n39 [label=<질병 수 &le; 4.5<br/>gini = 0.48<br/>samples = 5<br/>value = [2, 3]<br/>class = 1>, fillcolor=\"#bddef6\"] ;\\n38 -> 39 ;\\n40 [label=<활동주기 &le; 1.5<br/>gini = 0.375<br/>samples = 4<br/>value = [1, 3]<br/>class = 1>, fillcolor=\"#7bbeee\"] ;\\n39 -> 40 ;\\n41 [label=<gini = 0.0<br/>samples = 2<br/>value = [0, 2]<br/>class = 1>, fillcolor=\"#399de5\"] ;\\n40 -> 41 ;\\n42 [label=<gini = 0.5<br/>samples = 2<br/>value = [1, 1]<br/>class = 0>, fillcolor=\"#ffffff\"] ;\\n40 -> 42 ;\\n43 [label=<gini = 0.0<br/>samples = 1<br/>value = [1, 0]<br/>class = 0>, fillcolor=\"#e58139\"] ;\\n39 -> 43 ;\\n44 [label=<gini = 0.0<br/>samples = 8<br/>value = [0, 8]<br/>class = 1>, fillcolor=\"#399de5\"] ;\\n38 -> 44 ;\\n45 [label=<질병 수 &le; 3.5<br/>gini = 0.486<br/>samples = 24<br/>value = [10, 14]<br/>class = 1>, fillcolor=\"#c6e3f8\"] ;\\n37 -> 45 ;\\n46 [label=<활동지수 &le; 0.032<br/>gini = 0.346<br/>samples = 9<br/>value = [2, 7]<br/>class = 1>, fillcolor=\"#72b9ec\"] ;\\n45 -> 46 ;\\n47 [label=<gini = 0.0<br/>samples = 5<br/>value = [0, 5]<br/>class = 1>, fillcolor=\"#399de5\"] ;\\n46 -> 47 ;\\n48 [label=<활동지수 &le; 0.057<br/>gini = 0.5<br/>samples = 4<br/>value = [2, 2]<br/>class = 0>, fillcolor=\"#ffffff\"] ;\\n46 -> 48 ;\\n49 [label=<gini = 0.0<br/>samples = 2<br/>value = [2, 0]<br/>class = 0>, fillcolor=\"#e58139\"] ;\\n48 -> 49 ;\\n50 [label=<gini = 0.0<br/>samples = 2<br/>value = [0, 2]<br/>class = 1>, fillcolor=\"#399de5\"] ;\\n48 -> 50 ;\\n51 [label=<활동지수 &le; 0.032<br/>gini = 0.498<br/>samples = 15<br/>value = [8, 7]<br/>class = 0>, fillcolor=\"#fcefe6\"] ;\\n45 -> 51 ;\\n52 [label=<활동주기 &le; 1.5<br/>gini = 0.375<br/>samples = 8<br/>value = [6, 2]<br/>class = 0>, fillcolor=\"#eeab7b\"] ;\\n51 -> 52 ;\\n53 [label=<질병 수 &le; 7.5<br/>gini = 0.5<br/>samples = 2<br/>value = [1, 1]<br/>class = 0>, fillcolor=\"#ffffff\"] ;\\n52 -> 53 ;\\n54 [label=<gini = 0.0<br/>samples = 1<br/>value = [1, 0]<br/>class = 0>, fillcolor=\"#e58139\"] ;\\n53 -> 54 ;\\n55 [label=<gini = 0.0<br/>samples = 1<br/>value = [0, 1]<br/>class = 1>, fillcolor=\"#399de5\"] ;\\n53 -> 55 ;\\n56 [label=<활동지수 &le; 0.025<br/>gini = 0.278<br/>samples = 6<br/>value = [5, 1]<br/>class = 0>, fillcolor=\"#ea9a61\"] ;\\n52 -> 56 ;\\n57 [label=<gini = 0.0<br/>samples = 3<br/>value = [3, 0]<br/>class = 0>, fillcolor=\"#e58139\"] ;\\n56 -> 57 ;\\n58 [label=<질병 수 &le; 7.5<br/>gini = 0.444<br/>samples = 3<br/>value = [2, 1]<br/>class = 0>, fillcolor=\"#f2c09c\"] ;\\n56 -> 58 ;\\n59 [label=<gini = 0.0<br/>samples = 1<br/>value = [0, 1]<br/>class = 1>, fillcolor=\"#399de5\"] ;\\n58 -> 59 ;\\n60 [label=<gini = 0.0<br/>samples = 2<br/>value = [2, 0]<br/>class = 0>, fillcolor=\"#e58139\"] ;\\n58 -> 60 ;\\n61 [label=<활동지수 &le; 0.06<br/>gini = 0.408<br/>samples = 7<br/>value = [2, 5]<br/>class = 1>, fillcolor=\"#88c4ef\"] ;\\n51 -> 61 ;\\n62 [label=<gini = 0.0<br/>samples = 4<br/>value = [0, 4]<br/>class = 1>, fillcolor=\"#399de5\"] ;\\n61 -> 62 ;\\n63 [label=<질병 수 &le; 7.0<br/>gini = 0.444<br/>samples = 3<br/>value = [2, 1]<br/>class = 0>, fillcolor=\"#f2c09c\"] ;\\n61 -> 63 ;\\n64 [label=<gini = 0.0<br/>samples = 2<br/>value = [2, 0]<br/>class = 0>, fillcolor=\"#e58139\"] ;\\n63 -> 64 ;\\n65 [label=<gini = 0.0<br/>samples = 1<br/>value = [0, 1]<br/>class = 1>, fillcolor=\"#399de5\"] ;\\n63 -> 65 ;\\n66 [label=<활동지수 &le; 0.009<br/>gini = 0.274<br/>samples = 61<br/>value = [10, 51]<br/>class = 1>, fillcolor=\"#60b0ea\"] ;\\n36 -> 66 ;\\n67 [label=<gini = 0.0<br/>samples = 9<br/>value = [0, 9]<br/>class = 1>, fillcolor=\"#399de5\"] ;\\n66 -> 67 ;\\n68 [label=<활동지수 &le; 0.012<br/>gini = 0.311<br/>samples = 52<br/>value = [10, 42]<br/>class = 1>, fillcolor=\"#68b4eb\"] ;\\n66 -> 68 ;\\n69 [label=<질병 수 &le; 6.0<br/>gini = 0.444<br/>samples = 3<br/>value = [2, 1]<br/>class = 0>, fillcolor=\"#f2c09c\"] ;\\n68 -> 69 ;\\n70 [label=<gini = 0.0<br/>samples = 1<br/>value = [0, 1]<br/>class = 1>, fillcolor=\"#399de5\"] ;\\n69 -> 70 ;\\n71 [label=<gini = 0.0<br/>samples = 2<br/>value = [2, 0]<br/>class = 0>, fillcolor=\"#e58139\"] ;\\n69 -> 71 ;\\n72 [label=<활동지수 &le; 0.035<br/>gini = 0.273<br/>samples = 49<br/>value = [8, 41]<br/>class = 1>, fillcolor=\"#60b0ea\"] ;\\n68 -> 72 ;\\n73 [label=<질병 수 &le; 10.0<br/>gini = 0.165<br/>samples = 22<br/>value = [2, 20]<br/>class = 1>, fillcolor=\"#4da7e8\"] ;\\n72 -> 73 ;\\n74 [label=<활동주기 &le; 4.5<br/>gini = 0.091<br/>samples = 21<br/>value = [1, 20]<br/>class = 1>, fillcolor=\"#43a2e6\"] ;\\n73 -> 74 ;\\n75 [label=<gini = 0.0<br/>samples = 14<br/>value = [0, 14]<br/>class = 1>, fillcolor=\"#399de5\"] ;\\n74 -> 75 ;\\n76 [label=<활동지수 &le; 0.03<br/>gini = 0.245<br/>samples = 7<br/>value = [1, 6]<br/>class = 1>, fillcolor=\"#5aade9\"] ;\\n74 -> 76 ;\\n77 [label=<gini = 0.0<br/>samples = 4<br/>value = [0, 4]<br/>class = 1>, fillcolor=\"#399de5\"] ;\\n76 -> 77 ;\\n78 [label=<활동지수 &le; 0.032<br/>gini = 0.444<br/>samples = 3<br/>value = [1, 2]<br/>class = 1>, fillcolor=\"#9ccef2\"] ;\\n76 -> 78 ;\\n79 [label=<gini = 0.0<br/>samples = 1<br/>value = [1, 0]<br/>class = 0>, fillcolor=\"#e58139\"] ;\\n78 -> 79 ;\\n80 [label=<gini = 0.0<br/>samples = 2<br/>value = [0, 2]<br/>class = 1>, fillcolor=\"#399de5\"] ;\\n78 -> 80 ;\\n81 [label=<gini = 0.0<br/>samples = 1<br/>value = [1, 0]<br/>class = 0>, fillcolor=\"#e58139\"] ;\\n73 -> 81 ;\\n82 [label=<활동지수 &le; 0.036<br/>gini = 0.346<br/>samples = 27<br/>value = [6, 21]<br/>class = 1>, fillcolor=\"#72b9ec\"] ;\\n72 -> 82 ;\\n83 [label=<gini = 0.0<br/>samples = 1<br/>value = [1, 0]<br/>class = 0>, fillcolor=\"#e58139\"] ;\\n82 -> 83 ;\\n84 [label=<활동지수 &le; 0.049<br/>gini = 0.311<br/>samples = 26<br/>value = [5, 21]<br/>class = 1>, fillcolor=\"#68b4eb\"] ;\\n82 -> 84 ;\\n85 [label=<활동지수 &le; 0.048<br/>gini = 0.426<br/>samples = 13<br/>value = [4, 9]<br/>class = 1>, fillcolor=\"#91c9f1\"] ;\\n84 -> 85 ;\\n86 [label=<질병 수 &le; 3.5<br/>gini = 0.375<br/>samples = 12<br/>value = [3, 9]<br/>class = 1>, fillcolor=\"#7bbeee\"] ;\\n85 -> 86 ;\\n87 [label=<gini = 0.0<br/>samples = 5<br/>value = [0, 5]<br/>class = 1>, fillcolor=\"#399de5\"] ;\\n86 -> 87 ;\\n88 [label=<활동주기 &le; 4.5<br/>gini = 0.49<br/>samples = 7<br/>value = [3, 4]<br/>class = 1>, fillcolor=\"#cee6f8\"] ;\\n86 -> 88 ;\\n89 [label=<질병 수 &le; 5.5<br/>gini = 0.444<br/>samples = 6<br/>value = [2, 4]<br/>class = 1>, fillcolor=\"#9ccef2\"] ;\\n88 -> 89 ;\\n90 [label=<gini = 0.0<br/>samples = 2<br/>value = [0, 2]<br/>class = 1>, fillcolor=\"#399de5\"] ;\\n89 -> 90 ;\\n91 [label=<질병 수 &le; 7.0<br/>gini = 0.5<br/>samples = 4<br/>value = [2, 2]<br/>class = 0>, fillcolor=\"#ffffff\"] ;\\n89 -> 91 ;\\n92 [label=<gini = 0.0<br/>samples = 1<br/>value = [1, 0]<br/>class = 0>, fillcolor=\"#e58139\"] ;\\n91 -> 92 ;\\n93 [label=<활동주기 &le; 3.5<br/>gini = 0.444<br/>samples = 3<br/>value = [1, 2]<br/>class = 1>, fillcolor=\"#9ccef2\"] ;\\n91 -> 93 ;\\n94 [label=<gini = 0.0<br/>samples = 2<br/>value = [0, 2]<br/>class = 1>, fillcolor=\"#399de5\"] ;\\n93 -> 94 ;\\n95 [label=<gini = 0.0<br/>samples = 1<br/>value = [1, 0]<br/>class = 0>, fillcolor=\"#e58139\"] ;\\n93 -> 95 ;\\n96 [label=<gini = 0.0<br/>samples = 1<br/>value = [1, 0]<br/>class = 0>, fillcolor=\"#e58139\"] ;\\n88 -> 96 ;\\n97 [label=<gini = 0.0<br/>samples = 1<br/>value = [1, 0]<br/>class = 0>, fillcolor=\"#e58139\"] ;\\n85 -> 97 ;\\n98 [label=<활동주기 &le; 3.5<br/>gini = 0.142<br/>samples = 13<br/>value = [1, 12]<br/>class = 1>, fillcolor=\"#49a5e7\"] ;\\n84 -> 98 ;\\n99 [label=<질병 수 &le; 6.5<br/>gini = 0.375<br/>samples = 4<br/>value = [1, 3]<br/>class = 1>, fillcolor=\"#7bbeee\"] ;\\n98 -> 99 ;\\n100 [label=<gini = 0.0<br/>samples = 2<br/>value = [0, 2]<br/>class = 1>, fillcolor=\"#399de5\"] ;\\n99 -> 100 ;\\n101 [label=<질병 수 &le; 9.5<br/>gini = 0.5<br/>samples = 2<br/>value = [1, 1]<br/>class = 0>, fillcolor=\"#ffffff\"] ;\\n99 -> 101 ;\\n102 [label=<gini = 0.0<br/>samples = 1<br/>value = [1, 0]<br/>class = 0>, fillcolor=\"#e58139\"] ;\\n101 -> 102 ;\\n103 [label=<gini = 0.0<br/>samples = 1<br/>value = [0, 1]<br/>class = 1>, fillcolor=\"#399de5\"] ;\\n101 -> 103 ;\\n104 [label=<gini = 0.0<br/>samples = 9<br/>value = [0, 9]<br/>class = 1>, fillcolor=\"#399de5\"] ;\\n98 -> 104 ;\\n105 [label=<gini = 0.0<br/>samples = 8<br/>value = [0, 8]<br/>class = 1>, fillcolor=\"#399de5\"] ;\\n3 -> 105 ;\\n106 [label=<gini = 0.0<br/>samples = 2<br/>value = [2, 0]<br/>class = 0>, fillcolor=\"#e58139\"] ;\\n2 -> 106 ;\\n107 [label=<활동주기 &le; 3.5<br/>gini = 0.32<br/>samples = 5<br/>value = [4, 1]<br/>class = 0>, fillcolor=\"#eca06a\"] ;\\n1 -> 107 ;\\n108 [label=<활동지수 &le; 0.077<br/>gini = 0.5<br/>samples = 2<br/>value = [1, 1]<br/>class = 0>, fillcolor=\"#ffffff\"] ;\\n107 -> 108 ;\\n109 [label=<gini = 0.0<br/>samples = 1<br/>value = [1, 0]<br/>class = 0>, fillcolor=\"#e58139\"] ;\\n108 -> 109 ;\\n110 [label=<gini = 0.0<br/>samples = 1<br/>value = [0, 1]<br/>class = 1>, fillcolor=\"#399de5\"] ;\\n108 -> 110 ;\\n111 [label=<gini = 0.0<br/>samples = 3<br/>value = [3, 0]<br/>class = 0>, fillcolor=\"#e58139\"] ;\\n107 -> 111 ;\\n112 [label=<활동주기 &le; 2.5<br/>gini = 0.268<br/>samples = 69<br/>value = [11, 58]<br/>class = 1>, fillcolor=\"#5fb0ea\"] ;\\n0 -> 112 [labeldistance=2.5, labelangle=-45, headlabel=\"False\"] ;\\n113 [label=<활동지수 &le; 0.501<br/>gini = 0.353<br/>samples = 35<br/>value = [8, 27]<br/>class = 1>, fillcolor=\"#74baed\"] ;\\n112 -> 113 ;\\n114 [label=<활동지수 &le; 0.468<br/>gini = 0.4<br/>samples = 29<br/>value = [8, 21]<br/>class = 1>, fillcolor=\"#84c2ef\"] ;\\n113 -> 114 ;\\n115 [label=<활동지수 &le; 0.378<br/>gini = 0.375<br/>samples = 28<br/>value = [7, 21]<br/>class = 1>, fillcolor=\"#7bbeee\"] ;\\n114 -> 115 ;\\n116 [label=<활동지수 &le; 0.36<br/>gini = 0.413<br/>samples = 24<br/>value = [7, 17]<br/>class = 1>, fillcolor=\"#8bc5f0\"] ;\\n115 -> 116 ;\\n117 [label=<질병 수 &le; 8.0<br/>gini = 0.386<br/>samples = 23<br/>value = [6, 17]<br/>class = 1>, fillcolor=\"#7fc0ee\"] ;\\n116 -> 117 ;\\n118 [label=<활동지수 &le; 0.098<br/>gini = 0.432<br/>samples = 19<br/>value = [6, 13]<br/>class = 1>, fillcolor=\"#94caf1\"] ;\\n117 -> 118 ;\\n119 [label=<gini = 0.0<br/>samples = 2<br/>value = [0, 2]<br/>class = 1>, fillcolor=\"#399de5\"] ;\\n118 -> 119 ;\\n120 [label=<활동지수 &le; 0.162<br/>gini = 0.457<br/>samples = 17<br/>value = [6, 11]<br/>class = 1>, fillcolor=\"#a5d2f3\"] ;\\n118 -> 120 ;\\n121 [label=<활동지수 &le; 0.151<br/>gini = 0.496<br/>samples = 11<br/>value = [5, 6]<br/>class = 1>, fillcolor=\"#deeffb\"] ;\\n120 -> 121 ;\\n122 [label=<질병 수 &le; 3.5<br/>gini = 0.444<br/>samples = 9<br/>value = [3, 6]<br/>class = 1>, fillcolor=\"#9ccef2\"] ;\\n121 -> 122 ;\\n123 [label=<활동지수 &le; 0.113<br/>gini = 0.5<br/>samples = 4<br/>value = [2, 2]<br/>class = 0>, fillcolor=\"#ffffff\"] ;\\n122 -> 123 ;\\n124 [label=<gini = 0.0<br/>samples = 1<br/>value = [1, 0]<br/>class = 0>, fillcolor=\"#e58139\"] ;\\n123 -> 124 ;\\n125 [label=<질병 수 &le; 2.5<br/>gini = 0.444<br/>samples = 3<br/>value = [1, 2]<br/>class = 1>, fillcolor=\"#9ccef2\"] ;\\n123 -> 125 ;\\n126 [label=<활동지수 &le; 0.133<br/>gini = 0.5<br/>samples = 2<br/>value = [1, 1]<br/>class = 0>, fillcolor=\"#ffffff\"] ;\\n125 -> 126 ;\\n127 [label=<gini = 0.0<br/>samples = 1<br/>value = [0, 1]<br/>class = 1>, fillcolor=\"#399de5\"] ;\\n126 -> 127 ;\\n128 [label=<gini = 0.0<br/>samples = 1<br/>value = [1, 0]<br/>class = 0>, fillcolor=\"#e58139\"] ;\\n126 -> 128 ;\\n129 [label=<gini = 0.0<br/>samples = 1<br/>value = [0, 1]<br/>class = 1>, fillcolor=\"#399de5\"] ;\\n125 -> 129 ;\\n130 [label=<활동지수 &le; 0.12<br/>gini = 0.32<br/>samples = 5<br/>value = [1, 4]<br/>class = 1>, fillcolor=\"#6ab6ec\"] ;\\n122 -> 130 ;\\n131 [label=<gini = 0.0<br/>samples = 3<br/>value = [0, 3]<br/>class = 1>, fillcolor=\"#399de5\"] ;\\n130 -> 131 ;\\n132 [label=<활동주기 &le; 1.5<br/>gini = 0.5<br/>samples = 2<br/>value = [1, 1]<br/>class = 0>, fillcolor=\"#ffffff\"] ;\\n130 -> 132 ;\\n133 [label=<gini = 0.0<br/>samples = 1<br/>value = [0, 1]<br/>class = 1>, fillcolor=\"#399de5\"] ;\\n132 -> 133 ;\\n134 [label=<gini = 0.0<br/>samples = 1<br/>value = [1, 0]<br/>class = 0>, fillcolor=\"#e58139\"] ;\\n132 -> 134 ;\\n135 [label=<gini = 0.0<br/>samples = 2<br/>value = [2, 0]<br/>class = 0>, fillcolor=\"#e58139\"] ;\\n121 -> 135 ;\\n136 [label=<활동지수 &le; 0.265<br/>gini = 0.278<br/>samples = 6<br/>value = [1, 5]<br/>class = 1>, fillcolor=\"#61b1ea\"] ;\\n120 -> 136 ;\\n137 [label=<gini = 0.0<br/>samples = 4<br/>value = [0, 4]<br/>class = 1>, fillcolor=\"#399de5\"] ;\\n136 -> 137 ;\\n138 [label=<질병 수 &le; 3.5<br/>gini = 0.5<br/>samples = 2<br/>value = [1, 1]<br/>class = 0>, fillcolor=\"#ffffff\"] ;\\n136 -> 138 ;\\n139 [label=<gini = 0.0<br/>samples = 1<br/>value = [0, 1]<br/>class = 1>, fillcolor=\"#399de5\"] ;\\n138 -> 139 ;\\n140 [label=<gini = 0.0<br/>samples = 1<br/>value = [1, 0]<br/>class = 0>, fillcolor=\"#e58139\"] ;\\n138 -> 140 ;\\n141 [label=<gini = 0.0<br/>samples = 4<br/>value = [0, 4]<br/>class = 1>, fillcolor=\"#399de5\"] ;\\n117 -> 141 ;\\n142 [label=<gini = 0.0<br/>samples = 1<br/>value = [1, 0]<br/>class = 0>, fillcolor=\"#e58139\"] ;\\n116 -> 142 ;\\n143 [label=<gini = 0.0<br/>samples = 4<br/>value = [0, 4]<br/>class = 1>, fillcolor=\"#399de5\"] ;\\n115 -> 143 ;\\n144 [label=<gini = 0.0<br/>samples = 1<br/>value = [1, 0]<br/>class = 0>, fillcolor=\"#e58139\"] ;\\n114 -> 144 ;\\n145 [label=<gini = 0.0<br/>samples = 6<br/>value = [0, 6]<br/>class = 1>, fillcolor=\"#399de5\"] ;\\n113 -> 145 ;\\n146 [label=<질병 수 &le; 2.5<br/>gini = 0.161<br/>samples = 34<br/>value = [3, 31]<br/>class = 1>, fillcolor=\"#4ca6e8\"] ;\\n112 -> 146 ;\\n147 [label=<활동주기 &le; 3.5<br/>gini = 0.48<br/>samples = 5<br/>value = [2, 3]<br/>class = 1>, fillcolor=\"#bddef6\"] ;\\n146 -> 147 ;\\n148 [label=<gini = 0.0<br/>samples = 2<br/>value = [0, 2]<br/>class = 1>, fillcolor=\"#399de5\"] ;\\n147 -> 148 ;\\n149 [label=<활동지수 &le; 0.087<br/>gini = 0.444<br/>samples = 3<br/>value = [2, 1]<br/>class = 0>, fillcolor=\"#f2c09c\"] ;\\n147 -> 149 ;\\n150 [label=<gini = 0.0<br/>samples = 1<br/>value = [0, 1]<br/>class = 1>, fillcolor=\"#399de5\"] ;\\n149 -> 150 ;\\n151 [label=<gini = 0.0<br/>samples = 2<br/>value = [2, 0]<br/>class = 0>, fillcolor=\"#e58139\"] ;\\n149 -> 151 ;\\n152 [label=<질병 수 &le; 9.5<br/>gini = 0.067<br/>samples = 29<br/>value = [1, 28]<br/>class = 1>, fillcolor=\"#40a0e6\"] ;\\n146 -> 152 ;\\n153 [label=<gini = 0.0<br/>samples = 24<br/>value = [0, 24]<br/>class = 1>, fillcolor=\"#399de5\"] ;\\n152 -> 153 ;\\n154 [label=<질병 수 &le; 11.0<br/>gini = 0.32<br/>samples = 5<br/>value = [1, 4]<br/>class = 1>, fillcolor=\"#6ab6ec\"] ;\\n152 -> 154 ;\\n155 [label=<활동지수 &le; 0.181<br/>gini = 0.5<br/>samples = 2<br/>value = [1, 1]<br/>class = 0>, fillcolor=\"#ffffff\"] ;\\n154 -> 155 ;\\n156 [label=<gini = 0.0<br/>samples = 1<br/>value = [0, 1]<br/>class = 1>, fillcolor=\"#399de5\"] ;\\n155 -> 156 ;\\n157 [label=<gini = 0.0<br/>samples = 1<br/>value = [1, 0]<br/>class = 0>, fillcolor=\"#e58139\"] ;\\n155 -> 157 ;\\n158 [label=<gini = 0.0<br/>samples = 3<br/>value = [0, 3]<br/>class = 1>, fillcolor=\"#399de5\"] ;\\n154 -> 158 ;\\n}'"
      ]
     },
     "execution_count": 40,
     "metadata": {},
     "output_type": "execute_result"
    }
   ],
   "source": [
    "dot_data"
   ]
  },
  {
   "cell_type": "code",
   "execution_count": 41,
   "metadata": {},
   "outputs": [],
   "source": [
    "\n",
    "graph = pydotplus.graph_from_dot_data(dot_data)\n",
    "\n",
    "# Image(graph.create_png())"
   ]
  },
  {
   "cell_type": "code",
   "execution_count": 42,
   "metadata": {},
   "outputs": [
    {
     "ename": "InvocationException",
     "evalue": "GraphViz's executables not found",
     "output_type": "error",
     "traceback": [
      "\u001b[1;31m---------------------------------------------------------------------------\u001b[0m",
      "\u001b[1;31mInvocationException\u001b[0m                       Traceback (most recent call last)",
      "\u001b[1;32m<ipython-input-42-e6295557e538>\u001b[0m in \u001b[0;36m<module>\u001b[1;34m\u001b[0m\n\u001b[1;32m----> 1\u001b[1;33m \u001b[0mImage\u001b[0m\u001b[1;33m(\u001b[0m\u001b[0mgraph\u001b[0m\u001b[1;33m.\u001b[0m\u001b[0mcreate_png\u001b[0m\u001b[1;33m(\u001b[0m\u001b[1;33m)\u001b[0m\u001b[1;33m)\u001b[0m\u001b[1;33m\u001b[0m\u001b[1;33m\u001b[0m\u001b[0m\n\u001b[0m",
      "\u001b[1;32m~\\Anaconda3\\lib\\site-packages\\pydotplus\\graphviz.py\u001b[0m in \u001b[0;36m<lambda>\u001b[1;34m(f, prog)\u001b[0m\n\u001b[0;32m   1795\u001b[0m             self.__setattr__(\n\u001b[0;32m   1796\u001b[0m                 \u001b[1;34m'create_'\u001b[0m \u001b[1;33m+\u001b[0m \u001b[0mfrmt\u001b[0m\u001b[1;33m,\u001b[0m\u001b[1;33m\u001b[0m\u001b[1;33m\u001b[0m\u001b[0m\n\u001b[1;32m-> 1797\u001b[1;33m                 \u001b[1;32mlambda\u001b[0m \u001b[0mf\u001b[0m\u001b[1;33m=\u001b[0m\u001b[0mfrmt\u001b[0m\u001b[1;33m,\u001b[0m \u001b[0mprog\u001b[0m\u001b[1;33m=\u001b[0m\u001b[0mself\u001b[0m\u001b[1;33m.\u001b[0m\u001b[0mprog\u001b[0m\u001b[1;33m:\u001b[0m \u001b[0mself\u001b[0m\u001b[1;33m.\u001b[0m\u001b[0mcreate\u001b[0m\u001b[1;33m(\u001b[0m\u001b[0mformat\u001b[0m\u001b[1;33m=\u001b[0m\u001b[0mf\u001b[0m\u001b[1;33m,\u001b[0m \u001b[0mprog\u001b[0m\u001b[1;33m=\u001b[0m\u001b[0mprog\u001b[0m\u001b[1;33m)\u001b[0m\u001b[1;33m\u001b[0m\u001b[1;33m\u001b[0m\u001b[0m\n\u001b[0m\u001b[0;32m   1798\u001b[0m             )\n\u001b[0;32m   1799\u001b[0m             \u001b[0mf\u001b[0m \u001b[1;33m=\u001b[0m \u001b[0mself\u001b[0m\u001b[1;33m.\u001b[0m\u001b[0m__dict__\u001b[0m\u001b[1;33m[\u001b[0m\u001b[1;34m'create_'\u001b[0m \u001b[1;33m+\u001b[0m \u001b[0mfrmt\u001b[0m\u001b[1;33m]\u001b[0m\u001b[1;33m\u001b[0m\u001b[1;33m\u001b[0m\u001b[0m\n",
      "\u001b[1;32m~\\Anaconda3\\lib\\site-packages\\pydotplus\\graphviz.py\u001b[0m in \u001b[0;36mcreate\u001b[1;34m(self, prog, format)\u001b[0m\n\u001b[0;32m   1958\u001b[0m             \u001b[1;32mif\u001b[0m \u001b[0mself\u001b[0m\u001b[1;33m.\u001b[0m\u001b[0mprogs\u001b[0m \u001b[1;32mis\u001b[0m \u001b[1;32mNone\u001b[0m\u001b[1;33m:\u001b[0m\u001b[1;33m\u001b[0m\u001b[1;33m\u001b[0m\u001b[0m\n\u001b[0;32m   1959\u001b[0m                 raise InvocationException(\n\u001b[1;32m-> 1960\u001b[1;33m                     'GraphViz\\'s executables not found')\n\u001b[0m\u001b[0;32m   1961\u001b[0m \u001b[1;33m\u001b[0m\u001b[0m\n\u001b[0;32m   1962\u001b[0m         \u001b[1;32mif\u001b[0m \u001b[0mprog\u001b[0m \u001b[1;32mnot\u001b[0m \u001b[1;32min\u001b[0m \u001b[0mself\u001b[0m\u001b[1;33m.\u001b[0m\u001b[0mprogs\u001b[0m\u001b[1;33m:\u001b[0m\u001b[1;33m\u001b[0m\u001b[1;33m\u001b[0m\u001b[0m\n",
      "\u001b[1;31mInvocationException\u001b[0m: GraphViz's executables not found"
     ]
    }
   ],
   "source": [
    "Image(graph.create_png())"
   ]
  },
  {
   "cell_type": "code",
   "execution_count": null,
   "metadata": {},
   "outputs": [],
   "source": []
  }
 ],
 "metadata": {
  "kernelspec": {
   "display_name": "Python 3",
   "language": "python",
   "name": "python3"
  },
  "language_info": {
   "codemirror_mode": {
    "name": "ipython",
    "version": 3
   },
   "file_extension": ".py",
   "mimetype": "text/x-python",
   "name": "python",
   "nbconvert_exporter": "python",
   "pygments_lexer": "ipython3",
   "version": "3.6.9"
  }
 },
 "nbformat": 4,
 "nbformat_minor": 2
}
